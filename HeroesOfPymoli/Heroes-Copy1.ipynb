{
 "cells": [
  {
   "cell_type": "code",
   "execution_count": 2,
   "id": "ee3beaa4",
   "metadata": {},
   "outputs": [],
   "source": [
    "# Dependencies and Setup\n",
    "import pandas as pd\n",
    "import csv\n",
    "from pathlib import Path"
   ]
  },
  {
   "cell_type": "code",
   "execution_count": 5,
   "id": "3bc35542",
   "metadata": {},
   "outputs": [],
   "source": [
    "# File to Load (Remember to Change These)\n",
    "file_to_load = Path(\"Resources/purchase_data.csv\")"
   ]
  },
  {
   "cell_type": "code",
   "execution_count": 13,
   "id": "cbec478c",
   "metadata": {},
   "outputs": [
    {
     "data": {
      "text/html": [
       "<div>\n",
       "<style scoped>\n",
       "    .dataframe tbody tr th:only-of-type {\n",
       "        vertical-align: middle;\n",
       "    }\n",
       "\n",
       "    .dataframe tbody tr th {\n",
       "        vertical-align: top;\n",
       "    }\n",
       "\n",
       "    .dataframe thead th {\n",
       "        text-align: right;\n",
       "    }\n",
       "</style>\n",
       "<table border=\"1\" class=\"dataframe\">\n",
       "  <thead>\n",
       "    <tr style=\"text-align: right;\">\n",
       "      <th></th>\n",
       "      <th>Purchase ID</th>\n",
       "      <th>SN</th>\n",
       "      <th>Age</th>\n",
       "      <th>Gender</th>\n",
       "      <th>Item ID</th>\n",
       "      <th>Item Name</th>\n",
       "      <th>Price</th>\n",
       "    </tr>\n",
       "  </thead>\n",
       "  <tbody>\n",
       "    <tr>\n",
       "      <th>0</th>\n",
       "      <td>0</td>\n",
       "      <td>Lisim78</td>\n",
       "      <td>20</td>\n",
       "      <td>Male</td>\n",
       "      <td>108</td>\n",
       "      <td>Extraction, Quickblade Of Trembling Hands</td>\n",
       "      <td>3.53</td>\n",
       "    </tr>\n",
       "    <tr>\n",
       "      <th>1</th>\n",
       "      <td>1</td>\n",
       "      <td>Lisovynya38</td>\n",
       "      <td>40</td>\n",
       "      <td>Male</td>\n",
       "      <td>143</td>\n",
       "      <td>Frenzied Scimitar</td>\n",
       "      <td>1.56</td>\n",
       "    </tr>\n",
       "    <tr>\n",
       "      <th>2</th>\n",
       "      <td>2</td>\n",
       "      <td>Ithergue48</td>\n",
       "      <td>24</td>\n",
       "      <td>Male</td>\n",
       "      <td>92</td>\n",
       "      <td>Final Critic</td>\n",
       "      <td>4.88</td>\n",
       "    </tr>\n",
       "    <tr>\n",
       "      <th>3</th>\n",
       "      <td>3</td>\n",
       "      <td>Chamassasya86</td>\n",
       "      <td>24</td>\n",
       "      <td>Male</td>\n",
       "      <td>100</td>\n",
       "      <td>Blindscythe</td>\n",
       "      <td>3.27</td>\n",
       "    </tr>\n",
       "    <tr>\n",
       "      <th>4</th>\n",
       "      <td>4</td>\n",
       "      <td>Iskosia90</td>\n",
       "      <td>23</td>\n",
       "      <td>Male</td>\n",
       "      <td>131</td>\n",
       "      <td>Fury</td>\n",
       "      <td>1.44</td>\n",
       "    </tr>\n",
       "    <tr>\n",
       "      <th>...</th>\n",
       "      <td>...</td>\n",
       "      <td>...</td>\n",
       "      <td>...</td>\n",
       "      <td>...</td>\n",
       "      <td>...</td>\n",
       "      <td>...</td>\n",
       "      <td>...</td>\n",
       "    </tr>\n",
       "    <tr>\n",
       "      <th>775</th>\n",
       "      <td>775</td>\n",
       "      <td>Aethedru70</td>\n",
       "      <td>21</td>\n",
       "      <td>Female</td>\n",
       "      <td>60</td>\n",
       "      <td>Wolf</td>\n",
       "      <td>3.54</td>\n",
       "    </tr>\n",
       "    <tr>\n",
       "      <th>776</th>\n",
       "      <td>776</td>\n",
       "      <td>Iral74</td>\n",
       "      <td>21</td>\n",
       "      <td>Male</td>\n",
       "      <td>164</td>\n",
       "      <td>Exiled Doomblade</td>\n",
       "      <td>1.63</td>\n",
       "    </tr>\n",
       "    <tr>\n",
       "      <th>777</th>\n",
       "      <td>777</td>\n",
       "      <td>Yathecal72</td>\n",
       "      <td>20</td>\n",
       "      <td>Male</td>\n",
       "      <td>67</td>\n",
       "      <td>Celeste, Incarnation of the Corrupted</td>\n",
       "      <td>3.46</td>\n",
       "    </tr>\n",
       "    <tr>\n",
       "      <th>778</th>\n",
       "      <td>778</td>\n",
       "      <td>Sisur91</td>\n",
       "      <td>7</td>\n",
       "      <td>Male</td>\n",
       "      <td>92</td>\n",
       "      <td>Final Critic</td>\n",
       "      <td>4.19</td>\n",
       "    </tr>\n",
       "    <tr>\n",
       "      <th>779</th>\n",
       "      <td>779</td>\n",
       "      <td>Ennrian78</td>\n",
       "      <td>24</td>\n",
       "      <td>Male</td>\n",
       "      <td>50</td>\n",
       "      <td>Dawn</td>\n",
       "      <td>4.60</td>\n",
       "    </tr>\n",
       "  </tbody>\n",
       "</table>\n",
       "<p>780 rows × 7 columns</p>\n",
       "</div>"
      ],
      "text/plain": [
       "     Purchase ID             SN  Age  Gender  Item ID  \\\n",
       "0              0        Lisim78   20    Male      108   \n",
       "1              1    Lisovynya38   40    Male      143   \n",
       "2              2     Ithergue48   24    Male       92   \n",
       "3              3  Chamassasya86   24    Male      100   \n",
       "4              4      Iskosia90   23    Male      131   \n",
       "..           ...            ...  ...     ...      ...   \n",
       "775          775     Aethedru70   21  Female       60   \n",
       "776          776         Iral74   21    Male      164   \n",
       "777          777     Yathecal72   20    Male       67   \n",
       "778          778        Sisur91    7    Male       92   \n",
       "779          779      Ennrian78   24    Male       50   \n",
       "\n",
       "                                     Item Name  Price  \n",
       "0    Extraction, Quickblade Of Trembling Hands   3.53  \n",
       "1                            Frenzied Scimitar   1.56  \n",
       "2                                 Final Critic   4.88  \n",
       "3                                  Blindscythe   3.27  \n",
       "4                                         Fury   1.44  \n",
       "..                                         ...    ...  \n",
       "775                                       Wolf   3.54  \n",
       "776                           Exiled Doomblade   1.63  \n",
       "777      Celeste, Incarnation of the Corrupted   3.46  \n",
       "778                               Final Critic   4.19  \n",
       "779                                       Dawn   4.60  \n",
       "\n",
       "[780 rows x 7 columns]"
      ]
     },
     "execution_count": 13,
     "metadata": {},
     "output_type": "execute_result"
    }
   ],
   "source": [
    "# Read Purchasing File and store into Pandas data frame\n",
    "purchase_data_df = pd.read_csv(file_to_load)\n",
    "purchase_data_df"
   ]
  },
  {
   "cell_type": "code",
   "execution_count": 14,
   "id": "2d0b9c8d",
   "metadata": {},
   "outputs": [
    {
     "data": {
      "text/plain": [
       "576"
      ]
     },
     "execution_count": 14,
     "metadata": {},
     "output_type": "execute_result"
    }
   ],
   "source": [
    "# Player Count\n",
    "player_count = len(purchase_data_df[\"SN\"].unique())\n",
    "player_count"
   ]
  },
  {
   "cell_type": "code",
   "execution_count": 28,
   "id": "0281a8f4",
   "metadata": {},
   "outputs": [
    {
     "data": {
      "text/html": [
       "<div>\n",
       "<style scoped>\n",
       "    .dataframe tbody tr th:only-of-type {\n",
       "        vertical-align: middle;\n",
       "    }\n",
       "\n",
       "    .dataframe tbody tr th {\n",
       "        vertical-align: top;\n",
       "    }\n",
       "\n",
       "    .dataframe thead th {\n",
       "        text-align: right;\n",
       "    }\n",
       "</style>\n",
       "<table border=\"1\" class=\"dataframe\">\n",
       "  <thead>\n",
       "    <tr style=\"text-align: right;\">\n",
       "      <th></th>\n",
       "      <th>Total Players</th>\n",
       "    </tr>\n",
       "  </thead>\n",
       "  <tbody>\n",
       "    <tr>\n",
       "      <th>0</th>\n",
       "      <td>576</td>\n",
       "    </tr>\n",
       "  </tbody>\n",
       "</table>\n",
       "</div>"
      ],
      "text/plain": [
       "   Total Players\n",
       "0            576"
      ]
     },
     "execution_count": 28,
     "metadata": {},
     "output_type": "execute_result"
    }
   ],
   "source": [
    "# Total Number of Players\n",
    "player_df = pd.DataFrame({\"Total Players\":[player_count]})                         \n",
    "player_df"
   ]
  },
  {
   "cell_type": "code",
   "execution_count": 15,
   "id": "ea231637",
   "metadata": {},
   "outputs": [
    {
     "data": {
      "text/plain": [
       "2379.77"
      ]
     },
     "execution_count": 15,
     "metadata": {},
     "output_type": "execute_result"
    }
   ],
   "source": [
    "# Purchasing Analysis (Total)\n",
    "purchase_total = purchase_data_df[\"Price\"].sum()\n",
    "purchase_total"
   ]
  },
  {
   "cell_type": "code",
   "execution_count": 18,
   "id": "35055c7a",
   "metadata": {},
   "outputs": [
    {
     "data": {
      "text/plain": [
       "179"
      ]
     },
     "execution_count": 18,
     "metadata": {},
     "output_type": "execute_result"
    }
   ],
   "source": [
    "# Number of Unique Items\n",
    "unique_items = len(purchase_data_df[\"Item Name\"].unique())\n",
    "unique_items"
   ]
  },
  {
   "cell_type": "code",
   "execution_count": 56,
   "id": "99895e63",
   "metadata": {},
   "outputs": [
    {
     "data": {
      "text/plain": [
       "3.05"
      ]
     },
     "execution_count": 56,
     "metadata": {},
     "output_type": "execute_result"
    }
   ],
   "source": [
    "# Average Purchase Price\n",
    "average_price = purchase_data_df[\"Price\"].mean()\n",
    "average_price.round(2)"
   ]
  },
  {
   "cell_type": "code",
   "execution_count": 48,
   "id": "5d51b399",
   "metadata": {},
   "outputs": [
    {
     "data": {
      "text/plain": [
       "780"
      ]
     },
     "execution_count": 48,
     "metadata": {},
     "output_type": "execute_result"
    }
   ],
   "source": [
    "# Total Number of Purchases\n",
    "purchase_total_count = purchase_data_df[\"Price\"].count()\n",
    "purchase_total_count"
   ]
  },
  {
   "cell_type": "code",
   "execution_count": 30,
   "id": "6a230483",
   "metadata": {},
   "outputs": [
    {
     "data": {
      "text/plain": [
       "2379.77"
      ]
     },
     "execution_count": 30,
     "metadata": {},
     "output_type": "execute_result"
    }
   ],
   "source": [
    "# Total Revenue\n",
    "total_revenue = purchase_data_df[\"Price\"].sum()\n",
    "total_revenue"
   ]
  },
  {
   "cell_type": "code",
   "execution_count": 31,
   "id": "30d531e8",
   "metadata": {},
   "outputs": [
    {
     "data": {
      "text/plain": [
       "'Yearning Mageblade'"
      ]
     },
     "execution_count": 31,
     "metadata": {},
     "output_type": "execute_result"
    }
   ],
   "source": [
    "# Most Common Item\n",
    "most_common = purchase_data_df[\"Item Name\"].max()\n",
    "most_common"
   ]
  },
  {
   "cell_type": "code",
   "execution_count": 34,
   "id": "de3bc116",
   "metadata": {},
   "outputs": [
    {
     "data": {
      "text/plain": [
       "'Abyssal Shard'"
      ]
     },
     "execution_count": 34,
     "metadata": {},
     "output_type": "execute_result"
    }
   ],
   "source": [
    "# Least Common Item\n",
    "least_common = purchase_data_df[\"Item Name\"].min()\n",
    "least_common"
   ]
  },
  {
   "cell_type": "code",
   "execution_count": 35,
   "id": "c8694278",
   "metadata": {},
   "outputs": [
    {
     "data": {
      "text/html": [
       "<div>\n",
       "<style scoped>\n",
       "    .dataframe tbody tr th:only-of-type {\n",
       "        vertical-align: middle;\n",
       "    }\n",
       "\n",
       "    .dataframe tbody tr th {\n",
       "        vertical-align: top;\n",
       "    }\n",
       "\n",
       "    .dataframe thead th {\n",
       "        text-align: right;\n",
       "    }\n",
       "</style>\n",
       "<table border=\"1\" class=\"dataframe\">\n",
       "  <thead>\n",
       "    <tr style=\"text-align: right;\">\n",
       "      <th></th>\n",
       "      <th>Number of Unique Items</th>\n",
       "      <th>Average Price</th>\n",
       "      <th>Number of Purchases</th>\n",
       "      <th>Total Revenue</th>\n",
       "      <th>Most Common Item</th>\n",
       "      <th>Least Common Item</th>\n",
       "    </tr>\n",
       "  </thead>\n",
       "  <tbody>\n",
       "    <tr>\n",
       "      <th>0</th>\n",
       "      <td>179</td>\n",
       "      <td>3.050987</td>\n",
       "      <td>780</td>\n",
       "      <td>2379.77</td>\n",
       "      <td>Yearning Mageblade</td>\n",
       "      <td>Abyssal Shard</td>\n",
       "    </tr>\n",
       "  </tbody>\n",
       "</table>\n",
       "</div>"
      ],
      "text/plain": [
       "   Number of Unique Items  Average Price  Number of Purchases  Total Revenue  \\\n",
       "0                     179       3.050987                  780        2379.77   \n",
       "\n",
       "     Most Common Item Least Common Item  \n",
       "0  Yearning Mageblade     Abyssal Shard  "
      ]
     },
     "execution_count": 35,
     "metadata": {},
     "output_type": "execute_result"
    }
   ],
   "source": [
    "#Create a summary data frame to hold the results\n",
    "#Optional: give the displayed data cleaner formatting\n",
    "#Display the summary data frame\n",
    "\n",
    "purchase_analysis_summary_df = pd.DataFrame({\"Number of Unique Items\": [unique_items],\n",
    "                                             \"Average Price\": [average_price],\n",
    "                                             \"Number of Purchases\": [purchase_total_count],\n",
    "                                             \"Total Revenue\": [total_revenue],\n",
    "                                             \"Most Common Item\": most_common,\n",
    "                                             \"Least Common Item\": least_common})\n",
    "\n",
    "purchase_analysis_summary_df"
   ]
  },
  {
   "cell_type": "code",
   "execution_count": 71,
   "id": "8762235d",
   "metadata": {},
   "outputs": [
    {
     "data": {
      "text/plain": [
       "Male                     652\n",
       "Female                   113\n",
       "Other / Non-Disclosed     15\n",
       "Name: Gender, dtype: int64"
      ]
     },
     "execution_count": 71,
     "metadata": {},
     "output_type": "execute_result"
    }
   ],
   "source": [
    "# Gender Demographics\n",
    "gender_count = purchase_data_df[\"Gender\"].value_counts()\n",
    "gender_percentage = gender_count/player_count * 100\n",
    "gender_count"
   ]
  },
  {
   "cell_type": "code",
   "execution_count": 72,
   "id": "c71ea23c",
   "metadata": {},
   "outputs": [
    {
     "data": {
      "text/html": [
       "<div>\n",
       "<style scoped>\n",
       "    .dataframe tbody tr th:only-of-type {\n",
       "        vertical-align: middle;\n",
       "    }\n",
       "\n",
       "    .dataframe tbody tr th {\n",
       "        vertical-align: top;\n",
       "    }\n",
       "\n",
       "    .dataframe thead th {\n",
       "        text-align: right;\n",
       "    }\n",
       "</style>\n",
       "<table border=\"1\" class=\"dataframe\">\n",
       "  <thead>\n",
       "    <tr style=\"text-align: right;\">\n",
       "      <th></th>\n",
       "      <th>Total Count</th>\n",
       "      <th>Percentage of Players</th>\n",
       "    </tr>\n",
       "  </thead>\n",
       "  <tbody>\n",
       "    <tr>\n",
       "      <th>Male</th>\n",
       "      <td>652</td>\n",
       "      <td>113.194444</td>\n",
       "    </tr>\n",
       "    <tr>\n",
       "      <th>Female</th>\n",
       "      <td>113</td>\n",
       "      <td>19.618056</td>\n",
       "    </tr>\n",
       "    <tr>\n",
       "      <th>Other / Non-Disclosed</th>\n",
       "      <td>15</td>\n",
       "      <td>2.604167</td>\n",
       "    </tr>\n",
       "  </tbody>\n",
       "</table>\n",
       "</div>"
      ],
      "text/plain": [
       "                       Total Count  Percentage of Players\n",
       "Male                           652             113.194444\n",
       "Female                         113              19.618056\n",
       "Other / Non-Disclosed           15               2.604167"
      ]
     },
     "execution_count": 72,
     "metadata": {},
     "output_type": "execute_result"
    }
   ],
   "source": [
    "# Percentage and Count of Male Players\n",
    "# Percentage and Count of Female Players\n",
    "# Percentage and Count of Other / Non-Disclosed\n",
    "\n",
    "gender_demographics_summary = pd.DataFrame({\"Total Count\": gender_count,\n",
    "                                            \"Percentage of Players\": gender_percentage})\n",
    "\n",
    "gender_demographics_summary"
   ]
  },
  {
   "cell_type": "code",
   "execution_count": 52,
   "id": "5caa78da",
   "metadata": {},
   "outputs": [],
   "source": [
    "# Purchasing Analysis (Gender)\n",
    "#The below each broken by gender\n",
    "purchase_gender_df = pd.DataFrame(purchase_data_df)\n",
    "purchase_gender = purchase_gender_df.groupby([\"Gender\"])"
   ]
  },
  {
   "cell_type": "code",
   "execution_count": 53,
   "id": "e8d2077d",
   "metadata": {},
   "outputs": [
    {
     "data": {
      "text/plain": [
       "Gender\n",
       "Female                   113\n",
       "Male                     652\n",
       "Other / Non-Disclosed     15\n",
       "Name: Price, dtype: int64"
      ]
     },
     "execution_count": 53,
     "metadata": {},
     "output_type": "execute_result"
    }
   ],
   "source": [
    "# Purchase Count\n",
    "purchase_count = purchase_gender[\"Price\"].count()\n",
    "purchase_count"
   ]
  },
  {
   "cell_type": "code",
   "execution_count": 55,
   "id": "9379e69a",
   "metadata": {},
   "outputs": [
    {
     "data": {
      "text/plain": [
       "Gender\n",
       "Female                   3.20\n",
       "Male                     3.02\n",
       "Other / Non-Disclosed    3.35\n",
       "Name: Price, dtype: float64"
      ]
     },
     "execution_count": 55,
     "metadata": {},
     "output_type": "execute_result"
    }
   ],
   "source": [
    "# Average Purchase Price\n",
    "average_price = purchase_gender[\"Price\"].mean()\n",
    "average_price.round(2)"
   ]
  },
  {
   "cell_type": "code",
   "execution_count": 75,
   "id": "3b3ba3c6",
   "metadata": {},
   "outputs": [
    {
     "data": {
      "text/plain": [
       "Gender\n",
       "Female                    361.94\n",
       "Male                     1967.64\n",
       "Other / Non-Disclosed      50.19\n",
       "Name: Price, dtype: float64"
      ]
     },
     "execution_count": 75,
     "metadata": {},
     "output_type": "execute_result"
    }
   ],
   "source": [
    "# Total Purchase Value\n",
    "total_purchase_value = purchase_gender[\"Price\"].sum()\n",
    "total_purchase_value"
   ]
  },
  {
   "cell_type": "code",
   "execution_count": 81,
   "id": "d6b160a0",
   "metadata": {},
   "outputs": [
    {
     "data": {
      "text/plain": [
       "Gender\n",
       "Female                    361.94\n",
       "Male                     1967.64\n",
       "Other / Non-Disclosed      50.19\n",
       "Name: Price, dtype: float64"
      ]
     },
     "execution_count": 81,
     "metadata": {},
     "output_type": "execute_result"
    }
   ],
   "source": [
    "# Average Purchase Total per Person by Gender\n",
    "avg_purchase_total_gender = total_purchase_value\n",
    "avg_purchase_total_gender"
   ]
  },
  {
   "cell_type": "code",
   "execution_count": null,
   "id": "3216805d",
   "metadata": {},
   "outputs": [],
   "source": [
    "# summary table\n",
    "gender_purchase_summary = pd.DataFrame({"
   ]
  },
  {
   "cell_type": "code",
   "execution_count": null,
   "id": "60a32e1f",
   "metadata": {},
   "outputs": [],
   "source": [
    "# Age Demographics\n",
    "# The below each broken into bins of 4 years (i.e. <10, 10-14, 15-19, etc.)"
   ]
  },
  {
   "cell_type": "code",
   "execution_count": null,
   "id": "4d1a5928",
   "metadata": {},
   "outputs": [],
   "source": [
    "# Purchase Count"
   ]
  },
  {
   "cell_type": "code",
   "execution_count": null,
   "id": "8885dc0e",
   "metadata": {},
   "outputs": [],
   "source": [
    "# Average Purchase Price"
   ]
  },
  {
   "cell_type": "code",
   "execution_count": null,
   "id": "f61ca869",
   "metadata": {},
   "outputs": [],
   "source": [
    "# Total Purchase Value"
   ]
  },
  {
   "cell_type": "code",
   "execution_count": null,
   "id": "0e706dd4",
   "metadata": {},
   "outputs": [],
   "source": [
    "# Average Purchase Total per Person by Age Group"
   ]
  },
  {
   "cell_type": "code",
   "execution_count": null,
   "id": "044eaa18",
   "metadata": {},
   "outputs": [],
   "source": [
    "# Purchasing Analysis (age)\n",
    "# The below each broken into bins of 4 years (i.e. <10, 10-14, 15-19, etc.)"
   ]
  },
  {
   "cell_type": "code",
   "execution_count": null,
   "id": "4b7349c5",
   "metadata": {},
   "outputs": [],
   "source": [
    "# Purchase Count"
   ]
  },
  {
   "cell_type": "code",
   "execution_count": null,
   "id": "f1aa3cb1",
   "metadata": {},
   "outputs": [],
   "source": [
    "# Average Purchase Price"
   ]
  },
  {
   "cell_type": "code",
   "execution_count": null,
   "id": "1ec9ab77",
   "metadata": {},
   "outputs": [],
   "source": [
    "# Total Purchase Value"
   ]
  },
  {
   "cell_type": "code",
   "execution_count": null,
   "id": "d253631a",
   "metadata": {},
   "outputs": [],
   "source": [
    "# Average Purchase Total per Person by Age"
   ]
  },
  {
   "cell_type": "code",
   "execution_count": null,
   "id": "d402c1bc",
   "metadata": {},
   "outputs": [],
   "source": [
    "# Top Spenders\n",
    "# Identify the the top 5 spenders in the game by total purchase value, then list (in a table):\n"
   ]
  },
  {
   "cell_type": "code",
   "execution_count": null,
   "id": "9a763f70",
   "metadata": {},
   "outputs": [],
   "source": [
    "# SN"
   ]
  },
  {
   "cell_type": "code",
   "execution_count": null,
   "id": "b22773c4",
   "metadata": {},
   "outputs": [],
   "source": [
    "# Purchase Count"
   ]
  },
  {
   "cell_type": "code",
   "execution_count": null,
   "id": "8a01817c",
   "metadata": {},
   "outputs": [],
   "source": [
    "# Average Purchase Price\n"
   ]
  },
  {
   "cell_type": "code",
   "execution_count": null,
   "id": "e0b02aab",
   "metadata": {},
   "outputs": [],
   "source": [
    "# Total Purchase Value"
   ]
  },
  {
   "cell_type": "code",
   "execution_count": null,
   "id": "48f81450",
   "metadata": {},
   "outputs": [],
   "source": [
    "# Most Popular Items\n",
    "# Identify the 5 most popular items by purchase count, then list (in a table):"
   ]
  },
  {
   "cell_type": "code",
   "execution_count": null,
   "id": "40281854",
   "metadata": {},
   "outputs": [],
   "source": [
    "# Item ID"
   ]
  },
  {
   "cell_type": "code",
   "execution_count": null,
   "id": "7b0361ce",
   "metadata": {},
   "outputs": [],
   "source": [
    "# Item Name"
   ]
  },
  {
   "cell_type": "code",
   "execution_count": null,
   "id": "ec4d9220",
   "metadata": {},
   "outputs": [],
   "source": [
    "# Purchase Count\n"
   ]
  },
  {
   "cell_type": "code",
   "execution_count": null,
   "id": "0afd5cf2",
   "metadata": {},
   "outputs": [],
   "source": [
    "# Item Price"
   ]
  },
  {
   "cell_type": "code",
   "execution_count": null,
   "id": "53de8114",
   "metadata": {},
   "outputs": [],
   "source": [
    "# Total Purchase Value"
   ]
  },
  {
   "cell_type": "code",
   "execution_count": null,
   "id": "e7782881",
   "metadata": {},
   "outputs": [],
   "source": [
    "# Most Profitable Items\n",
    "# Identify the 5 most profitable items by total purchase value, then list (in a table):"
   ]
  },
  {
   "cell_type": "code",
   "execution_count": null,
   "id": "cfabfadb",
   "metadata": {},
   "outputs": [],
   "source": [
    "# Item ID\n"
   ]
  },
  {
   "cell_type": "code",
   "execution_count": null,
   "id": "2ea68022",
   "metadata": {},
   "outputs": [],
   "source": [
    "#Item Name"
   ]
  },
  {
   "cell_type": "code",
   "execution_count": null,
   "id": "c2f1dbea",
   "metadata": {},
   "outputs": [],
   "source": [
    "# Purchase Count\n"
   ]
  },
  {
   "cell_type": "code",
   "execution_count": null,
   "id": "5e4411d7",
   "metadata": {},
   "outputs": [],
   "source": [
    "# Item Price\n"
   ]
  },
  {
   "cell_type": "code",
   "execution_count": null,
   "id": "4df48615",
   "metadata": {},
   "outputs": [],
   "source": [
    "# Total Purchase Value"
   ]
  }
 ],
 "metadata": {
  "kernelspec": {
   "display_name": "Python 3",
   "language": "python",
   "name": "python3"
  },
  "language_info": {
   "codemirror_mode": {
    "name": "ipython",
    "version": 3
   },
   "file_extension": ".py",
   "mimetype": "text/x-python",
   "name": "python",
   "nbconvert_exporter": "python",
   "pygments_lexer": "ipython3",
   "version": "3.6.13"
  }
 },
 "nbformat": 4,
 "nbformat_minor": 5
}
